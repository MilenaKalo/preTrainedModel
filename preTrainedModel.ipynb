{
  "cells": [
    {
      "cell_type": "markdown",
      "metadata": {
        "id": "view-in-github",
        "colab_type": "text"
      },
      "source": [
        "<a href=\"https://colab.research.google.com/github/MilenaKalo/preTrainedModel/blob/main/preTrainedModel.ipynb\" target=\"_parent\"><img src=\"https://colab.research.google.com/assets/colab-badge.svg\" alt=\"Open In Colab\"/></a>"
      ]
    },
    {
      "cell_type": "code",
      "execution_count": 26,
      "metadata": {
        "id": "ogq06vUkPLwa"
      },
      "outputs": [],
      "source": [
        "#Import \n",
        "import matplotlib.pyplot as plt\n",
        "import numpy as np\n",
        "import tensorflow as tf\n",
        "import os\n",
        "from PIL import Image\n",
        "import csv\n",
        "from typing import List\n",
        "from keras.preprocessing.image import ImageDataGenerator\n",
        "from keras.utils import load_img, img_to_array\n"
      ]
    },
    {
      "cell_type": "code",
      "execution_count": 2,
      "metadata": {
        "id": "HrS2oouDPoIm",
        "colab": {
          "base_uri": "https://localhost:8080/"
        },
        "outputId": "d3c08637-cfe9-48bb-db84-a41d60a1f6f2"
      },
      "outputs": [
        {
          "output_type": "stream",
          "name": "stdout",
          "text": [
            "Mounted at /content/drive/\n"
          ]
        }
      ],
      "source": [
        "# Google Drive mounting\n",
        "from google.colab import drive\n",
        "drive.mount('/content/drive/')"
      ]
    },
    {
      "cell_type": "code",
      "source": [
        "# Code, um durch alle Bilder zu gehen, testet auf Korruption und Duplikate\n",
        "\n",
        "def check_for_corruption_and_duplicates(root_dir: str) -> List[str]:\n",
        "    \"\"\"\n",
        "    Check for corruption and duplicates in the images in the given root directory.\n",
        "\n",
        "    Parameters:\n",
        "    - root_dir: The root directory to search for images.\n",
        "    Returns:\n",
        "    - A list of messages indicating if any images were found to be corrupt or duplicates.\n",
        "    \"\"\"\n",
        "    # This dictionary will store the hash values of all the images encountered\n",
        "    image_hashes = {}\n",
        "\n",
        "    messages = []\n",
        "\n",
        "    # Iterate over all the files in all the subfolders\n",
        "    for root, dirs, files in os.walk(root_dir):\n",
        "        for file in files:\n",
        "            file_path = os.path.join(root, file)\n",
        "            # Check if the file is an image\n",
        "            try:\n",
        "                with Image.open(file_path) as img:\n",
        "                    # Calculate the hash value of the image\n",
        "                    if img.format in ['BMP', 'GIF', 'JPEG', 'PNG']:\n",
        "                        hash_value = hash(img.tobytes())\n",
        "                        \n",
        "                    else:\n",
        "                        hash_value = None\n",
        "                        (f'{file_path} is not an image')\n",
        "            except UnidentifiedImageError:\n",
        "                # If the file is not an image, skip it\n",
        "                messages.append(f'{file_path} is not an image')\n",
        "                continue\n",
        "\n",
        "            # Check if we've already encountered this image\n",
        "            if hash_value is not None and hash_value in image_hashes:\n",
        "                messages.append(f'{file} is a duplicate of {image_hashes[hash_value]}')\n",
        "            else:\n",
        "                image_hashes[hash_value] = file\n",
        "    \n",
        "    return messages\n"
      ],
      "metadata": {
        "id": "zQ_n7gjMYanf"
      },
      "execution_count": 46,
      "outputs": []
    },
    {
      "cell_type": "code",
      "source": [
        "# Run the function for the train\n",
        "root_dirs3 = ['/content/drive/MyDrive/Colab Notebooks/train']\n",
        "for root_dir in root_dirs3:\n",
        "    messages = check_for_corruption_and_duplicates(root_dir)\n",
        "    print(f'Messages for {root_dir}: {messages}')"
      ],
      "metadata": {
        "id": "vdlmK_3Iv66I",
        "colab": {
          "base_uri": "https://localhost:8080/"
        },
        "outputId": "0df82420-9569-4ab5-cee4-8f400e805019"
      },
      "execution_count": 49,
      "outputs": [
        {
          "output_type": "stream",
          "name": "stdout",
          "text": [
            "Messages for /content/drive/MyDrive/Colab Notebooks/train: []\n"
          ]
        }
      ]
    },
    {
      "cell_type": "code",
      "source": [
        "# Run the function for the validate\n",
        "root_dirs2 = ['/content/drive/MyDrive/Colab Notebooks/validate']\n",
        "for root_dir in root_dirs2:\n",
        "    messages = check_for_corruption_and_duplicates(root_dir)\n",
        "    print(f'Messages for {root_dir}: {messages}')"
      ],
      "metadata": {
        "id": "CTGRp29iv4B_",
        "colab": {
          "base_uri": "https://localhost:8080/"
        },
        "outputId": "2a1b4373-7826-420f-a4d0-cee78053ca8d"
      },
      "execution_count": 47,
      "outputs": [
        {
          "output_type": "stream",
          "name": "stdout",
          "text": [
            "Messages for /content/drive/MyDrive/Colab Notebooks/validate: []\n"
          ]
        }
      ]
    },
    {
      "cell_type": "code",
      "source": [
        "# Run the function for the test\n",
        "root_dirs = ['/content/drive/MyDrive/Colab Notebooks/test']\n",
        "for root_dir in root_dirs:\n",
        "    messages = check_for_corruption_and_duplicates(root_dir)\n",
        "    print(f'Messages for {root_dir}: {messages}')\n",
        "# alle duplicate händisch gelöscht"
      ],
      "metadata": {
        "id": "_vyHhcd4vz1M",
        "colab": {
          "base_uri": "https://localhost:8080/"
        },
        "outputId": "54de5cda-f606-4aef-b9bc-994953a0642b"
      },
      "execution_count": 48,
      "outputs": [
        {
          "output_type": "stream",
          "name": "stdout",
          "text": [
            "Messages for /content/drive/MyDrive/Colab Notebooks/test: []\n"
          ]
        }
      ]
    },
    {
      "cell_type": "code",
      "source": [
        "# Code, der checkt ob alle bilder aus der csv im enstprechenden ordner vorhanden sind\n",
        "# fehlende 0 kb Bilder händisch hinzugefügt\n",
        "def check_filenames(root_dir: str, csv_file_path: str) -> List[str]:\n",
        "    \"\"\"\n",
        "    Check if each filename in the given CSV file is included in the list of filenames in the given root directory.\n",
        "\n",
        "    Parameters:\n",
        "    - root_dir: The root directory to search for filenames.\n",
        "    - csv_file_path: The path to the CSV file.\n",
        "    Returns:\n",
        "    - A list of filenames that are not included in the list of filenames in the given root directory.\n",
        "    \"\"\"\n",
        "    # Initialize an empty list to store the filenames\n",
        "    filenames = []\n",
        "\n",
        "    # Use os.walk to recursively go through all the subfolders in the given root directory\n",
        "    for root, dirs, files in os.walk(root_dir):\n",
        "        # Add the filenames in the current folder to the list\n",
        "        filenames += [file for file in files]\n",
        "\n",
        "    # Open the CSV file\n",
        "    with open(csv_file_path, 'r') as csv_file:\n",
        "        # Read the CSV file\n",
        "        reader = csv.reader(csv_file)\n",
        "        # Initialize an empty list to store the filenames that are not in the list of filenames\n",
        "        missing_filenames = []\n",
        "        # Iterate through the rows in the CSV file\n",
        "        for row in reader:\n",
        "            # Check if the filename in the CSV is in the list of filenames\n",
        "            if row[1] not in filenames:\n",
        "                missing_filenames.append(row[1])\n",
        "    \n",
        "    return missing_filenames\n",
        "\n",
        "# Run the function for the test, validate, and train folders\n",
        "root_dirs = ['/content/drive/MyDrive/Colab Notebooks/test', '/content/drive/MyDrive/Colab Notebooks/validate', '/content/drive/MyDrive/Colab Notebooks/train']\n",
        "csv_file_paths = ['/content/drive/MyDrive/Colab Notebooks/test.csv', '/content/drive/MyDrive/Colab Notebooks/validate.csv', '/content/drive/MyDrive/Colab Notebooks/train.csv']\n",
        "for root_dir, csv_file_path in zip(root_dirs, csv_file_paths):\n",
        "    missing_filenames = check_filenames(root_dir, csv_file_path)\n",
        "    print(f'Missing filenames in {root_dir}: {missing_filenames}')"
      ],
      "metadata": {
        "colab": {
          "base_uri": "https://localhost:8080/"
        },
        "id": "4tVL3UezFZwI",
        "outputId": "b3ba45dd-6560-4c38-b852-a4d61ecacfff"
      },
      "execution_count": null,
      "outputs": [
        {
          "output_type": "stream",
          "name": "stdout",
          "text": [
            "Missing filenames in /content/drive/MyDrive/Colab Notebooks/test: ['id']\n",
            "Missing filenames in /content/drive/MyDrive/Colab Notebooks/validate: ['id']\n",
            "Missing filenames in /content/drive/MyDrive/Colab Notebooks/train: ['id', 'n110701.jpg', 'n110700.jpg', 'n110702.jpg', 'n110697.jpg', 'n110696.jpg', 'n110703.jpg']\n"
          ]
        }
      ]
    },
    {
      "cell_type": "code",
      "execution_count": 3,
      "metadata": {
        "id": "bZItcPxaPkpM"
      },
      "outputs": [],
      "source": [
        "# set paths \n",
        "train_path = '/content/drive/MyDrive/Colab Notebooks/train'\n",
        "validate_path = \"/content/drive/MyDrive/Colab Notebooks/validate\"\n",
        "test_path = '/content/drive/MyDrive/Colab Notebooks/test'\n",
        "train_dir = train_path\n",
        "validation_dir = validate_path\n",
        "test_dir = test_path"
      ]
    },
    {
      "cell_type": "code",
      "execution_count": 35,
      "metadata": {
        "colab": {
          "base_uri": "https://localhost:8080/"
        },
        "id": "TUYtvGS4QGDh",
        "outputId": "4f773774-f552-41e6-d54a-e2be7f74672d"
      },
      "outputs": [
        {
          "output_type": "stream",
          "name": "stdout",
          "text": [
            "Found 18969 files belonging to 136 classes.\n",
            "Found 4067 files belonging to 136 classes.\n",
            "Found 4066 files belonging to 136 classes.\n"
          ]
        }
      ],
      "source": [
        "BATCH_SIZE = 64\n",
        "IMG_SIZE = (224, 224)\n",
        "\n",
        "train_dataset = tf.keras.utils.image_dataset_from_directory(train_dir,\n",
        "                                                            shuffle=True,\n",
        "                                                            batch_size=BATCH_SIZE,\n",
        "                                                            image_size=IMG_SIZE,\n",
        "                                                            seed=42,\n",
        "                                                            label_mode=\"categorical\")\n",
        "\n",
        "validation_dataset = tf.keras.utils.image_dataset_from_directory(validation_dir,\n",
        "                                                                 shuffle=True,\n",
        "                                                                 batch_size=BATCH_SIZE,\n",
        "                                                                 image_size=IMG_SIZE,\n",
        "                                                                 seed=42,\n",
        "                                                                 label_mode=\"categorical\")\n",
        "\n",
        "test_dataset = tf.keras.utils.image_dataset_from_directory(test_dir,\n",
        "                                                                 shuffle=True,\n",
        "                                                                 batch_size=BATCH_SIZE,\n",
        "                                                                 image_size=IMG_SIZE,\n",
        "                                                                 seed=42,\n",
        "                                                                 label_mode=\"categorical\")\n"
      ]
    },
    {
      "cell_type": "code",
      "execution_count": null,
      "metadata": {
        "colab": {
          "base_uri": "https://localhost:8080/"
        },
        "id": "X3DpF4B2QRzy",
        "outputId": "550bfc24-85ca-4f4f-adcb-5a23364a3120"
      },
      "outputs": [
        {
          "output_type": "stream",
          "name": "stdout",
          "text": [
            "Number of folders in train: 136\n",
            "Number of folders in validate: 136\n",
            "Number of folders in test: 136\n"
          ]
        }
      ],
      "source": [
        "#check folder size \n",
        "def count_folders():        \n",
        "    train = len(os.listdir(train_path))\n",
        "    validate = len(os.listdir(validate_path))\n",
        "    test = len(os.listdir(test_path))\n",
        "    print(\"Number of folders in train: \" + str(train))\n",
        "    print(\"Number of folders in validate: \" + str(validate))\n",
        "    print(\"Number of folders in test: \" + str(test))\n",
        "\n",
        "    # remove empty files\n",
        "    for folder in os.listdir(train_path):\n",
        "      current_path = os.path.join(train_path, folder)\n",
        "      for f in os.listdir(current_path):\n",
        "        current_file = os.path.join(current_path, f)\n",
        "        if os.path.isfile(current_file):\n",
        "          if os.stat(current_file).st_size == 0:\n",
        "            print(f\"Empty file {current_file} will be removed\")\n",
        "            os.remove(current_file)\n",
        "\n",
        "count_folders()"
      ]
    },
    {
      "cell_type": "code",
      "execution_count": 5,
      "metadata": {
        "colab": {
          "base_uri": "https://localhost:8080/"
        },
        "id": "rGnJkYs_Qgn8",
        "outputId": "10fe580d-8144-42bc-f93c-9eb3742c7a7e"
      },
      "outputs": [
        {
          "output_type": "stream",
          "name": "stdout",
          "text": [
            "Number of validation batches: 103\n",
            "Number of test batches: 25\n"
          ]
        }
      ],
      "source": [
        "\n",
        "val_batches = tf.data.experimental.cardinality(validation_dataset)\n",
        "test_dataset = validation_dataset.take(val_batches // 5)\n",
        "validation_dataset = validation_dataset.skip(val_batches // 5)\n",
        "\n",
        "print('Number of validation batches: %d' % tf.data.experimental.cardinality(validation_dataset))\n",
        "print('Number of test batches: %d' % tf.data.experimental.cardinality(test_dataset))\n"
      ]
    },
    {
      "cell_type": "code",
      "execution_count": 6,
      "metadata": {
        "id": "-LzP8aBdQi5T"
      },
      "outputs": [],
      "source": [
        "AUTOTUNE = tf.data.AUTOTUNE\n",
        "\n",
        "train_dataset = train_dataset.prefetch(buffer_size=AUTOTUNE)\n",
        "validation_dataset = validation_dataset.prefetch(buffer_size=AUTOTUNE)\n",
        "test_dataset = test_dataset.prefetch(buffer_size=AUTOTUNE)\n",
        "\n",
        "data_augmentation = tf.keras.Sequential([\n",
        "    tf.keras.layers.RandomFlip('horizontal'),\n",
        "    tf.keras.layers.RandomRotation(0.2),\n",
        "])\n",
        "\n",
        "preprocess_input = tf.keras.applications.mobilenet_v2.preprocess_input\n",
        "\n",
        "rescale = tf.keras.layers.Rescaling(1. / 127.5, offset=-1)"
      ]
    },
    {
      "cell_type": "code",
      "execution_count": 36,
      "metadata": {
        "colab": {
          "base_uri": "https://localhost:8080/"
        },
        "id": "0czR5vGZQnkI",
        "outputId": "24a70cd0-68a3-4830-c4df-5e67c9bdde03"
      },
      "outputs": [
        {
          "output_type": "stream",
          "name": "stdout",
          "text": [
            "(64, 136)\n",
            "(64, 7, 7, 1280)\n",
            "(64, 1280)\n",
            "(64, 136)\n",
            "Model: \"mobilenetv2_1.00_224\"\n",
            "__________________________________________________________________________________________________\n",
            " Layer (type)                   Output Shape         Param #     Connected to                     \n",
            "==================================================================================================\n",
            " input_3 (InputLayer)           [(None, 224, 224, 3  0           []                               \n",
            "                                )]                                                                \n",
            "                                                                                                  \n",
            " Conv1 (Conv2D)                 (None, 112, 112, 32  864         ['input_3[0][0]']                \n",
            "                                )                                                                 \n",
            "                                                                                                  \n",
            " bn_Conv1 (BatchNormalization)  (None, 112, 112, 32  128         ['Conv1[0][0]']                  \n",
            "                                )                                                                 \n",
            "                                                                                                  \n",
            " Conv1_relu (ReLU)              (None, 112, 112, 32  0           ['bn_Conv1[0][0]']               \n",
            "                                )                                                                 \n",
            "                                                                                                  \n",
            " expanded_conv_depthwise (Depth  (None, 112, 112, 32  288        ['Conv1_relu[0][0]']             \n",
            " wiseConv2D)                    )                                                                 \n",
            "                                                                                                  \n",
            " expanded_conv_depthwise_BN (Ba  (None, 112, 112, 32  128        ['expanded_conv_depthwise[0][0]']\n",
            " tchNormalization)              )                                                                 \n",
            "                                                                                                  \n",
            " expanded_conv_depthwise_relu (  (None, 112, 112, 32  0          ['expanded_conv_depthwise_BN[0][0\n",
            " ReLU)                          )                                ]']                              \n",
            "                                                                                                  \n",
            " expanded_conv_project (Conv2D)  (None, 112, 112, 16  512        ['expanded_conv_depthwise_relu[0]\n",
            "                                )                                [0]']                            \n",
            "                                                                                                  \n",
            " expanded_conv_project_BN (Batc  (None, 112, 112, 16  64         ['expanded_conv_project[0][0]']  \n",
            " hNormalization)                )                                                                 \n",
            "                                                                                                  \n",
            " block_1_expand (Conv2D)        (None, 112, 112, 96  1536        ['expanded_conv_project_BN[0][0]'\n",
            "                                )                                ]                                \n",
            "                                                                                                  \n",
            " block_1_expand_BN (BatchNormal  (None, 112, 112, 96  384        ['block_1_expand[0][0]']         \n",
            " ization)                       )                                                                 \n",
            "                                                                                                  \n",
            " block_1_expand_relu (ReLU)     (None, 112, 112, 96  0           ['block_1_expand_BN[0][0]']      \n",
            "                                )                                                                 \n",
            "                                                                                                  \n",
            " block_1_pad (ZeroPadding2D)    (None, 113, 113, 96  0           ['block_1_expand_relu[0][0]']    \n",
            "                                )                                                                 \n",
            "                                                                                                  \n",
            " block_1_depthwise (DepthwiseCo  (None, 56, 56, 96)  864         ['block_1_pad[0][0]']            \n",
            " nv2D)                                                                                            \n",
            "                                                                                                  \n",
            " block_1_depthwise_BN (BatchNor  (None, 56, 56, 96)  384         ['block_1_depthwise[0][0]']      \n",
            " malization)                                                                                      \n",
            "                                                                                                  \n",
            " block_1_depthwise_relu (ReLU)  (None, 56, 56, 96)   0           ['block_1_depthwise_BN[0][0]']   \n",
            "                                                                                                  \n",
            " block_1_project (Conv2D)       (None, 56, 56, 24)   2304        ['block_1_depthwise_relu[0][0]'] \n",
            "                                                                                                  \n",
            " block_1_project_BN (BatchNorma  (None, 56, 56, 24)  96          ['block_1_project[0][0]']        \n",
            " lization)                                                                                        \n",
            "                                                                                                  \n",
            " block_2_expand (Conv2D)        (None, 56, 56, 144)  3456        ['block_1_project_BN[0][0]']     \n",
            "                                                                                                  \n",
            " block_2_expand_BN (BatchNormal  (None, 56, 56, 144)  576        ['block_2_expand[0][0]']         \n",
            " ization)                                                                                         \n",
            "                                                                                                  \n",
            " block_2_expand_relu (ReLU)     (None, 56, 56, 144)  0           ['block_2_expand_BN[0][0]']      \n",
            "                                                                                                  \n",
            " block_2_depthwise (DepthwiseCo  (None, 56, 56, 144)  1296       ['block_2_expand_relu[0][0]']    \n",
            " nv2D)                                                                                            \n",
            "                                                                                                  \n",
            " block_2_depthwise_BN (BatchNor  (None, 56, 56, 144)  576        ['block_2_depthwise[0][0]']      \n",
            " malization)                                                                                      \n",
            "                                                                                                  \n",
            " block_2_depthwise_relu (ReLU)  (None, 56, 56, 144)  0           ['block_2_depthwise_BN[0][0]']   \n",
            "                                                                                                  \n",
            " block_2_project (Conv2D)       (None, 56, 56, 24)   3456        ['block_2_depthwise_relu[0][0]'] \n",
            "                                                                                                  \n",
            " block_2_project_BN (BatchNorma  (None, 56, 56, 24)  96          ['block_2_project[0][0]']        \n",
            " lization)                                                                                        \n",
            "                                                                                                  \n",
            " block_2_add (Add)              (None, 56, 56, 24)   0           ['block_1_project_BN[0][0]',     \n",
            "                                                                  'block_2_project_BN[0][0]']     \n",
            "                                                                                                  \n",
            " block_3_expand (Conv2D)        (None, 56, 56, 144)  3456        ['block_2_add[0][0]']            \n",
            "                                                                                                  \n",
            " block_3_expand_BN (BatchNormal  (None, 56, 56, 144)  576        ['block_3_expand[0][0]']         \n",
            " ization)                                                                                         \n",
            "                                                                                                  \n",
            " block_3_expand_relu (ReLU)     (None, 56, 56, 144)  0           ['block_3_expand_BN[0][0]']      \n",
            "                                                                                                  \n",
            " block_3_pad (ZeroPadding2D)    (None, 57, 57, 144)  0           ['block_3_expand_relu[0][0]']    \n",
            "                                                                                                  \n",
            " block_3_depthwise (DepthwiseCo  (None, 28, 28, 144)  1296       ['block_3_pad[0][0]']            \n",
            " nv2D)                                                                                            \n",
            "                                                                                                  \n",
            " block_3_depthwise_BN (BatchNor  (None, 28, 28, 144)  576        ['block_3_depthwise[0][0]']      \n",
            " malization)                                                                                      \n",
            "                                                                                                  \n",
            " block_3_depthwise_relu (ReLU)  (None, 28, 28, 144)  0           ['block_3_depthwise_BN[0][0]']   \n",
            "                                                                                                  \n",
            " block_3_project (Conv2D)       (None, 28, 28, 32)   4608        ['block_3_depthwise_relu[0][0]'] \n",
            "                                                                                                  \n",
            " block_3_project_BN (BatchNorma  (None, 28, 28, 32)  128         ['block_3_project[0][0]']        \n",
            " lization)                                                                                        \n",
            "                                                                                                  \n",
            " block_4_expand (Conv2D)        (None, 28, 28, 192)  6144        ['block_3_project_BN[0][0]']     \n",
            "                                                                                                  \n",
            " block_4_expand_BN (BatchNormal  (None, 28, 28, 192)  768        ['block_4_expand[0][0]']         \n",
            " ization)                                                                                         \n",
            "                                                                                                  \n",
            " block_4_expand_relu (ReLU)     (None, 28, 28, 192)  0           ['block_4_expand_BN[0][0]']      \n",
            "                                                                                                  \n",
            " block_4_depthwise (DepthwiseCo  (None, 28, 28, 192)  1728       ['block_4_expand_relu[0][0]']    \n",
            " nv2D)                                                                                            \n",
            "                                                                                                  \n",
            " block_4_depthwise_BN (BatchNor  (None, 28, 28, 192)  768        ['block_4_depthwise[0][0]']      \n",
            " malization)                                                                                      \n",
            "                                                                                                  \n",
            " block_4_depthwise_relu (ReLU)  (None, 28, 28, 192)  0           ['block_4_depthwise_BN[0][0]']   \n",
            "                                                                                                  \n",
            " block_4_project (Conv2D)       (None, 28, 28, 32)   6144        ['block_4_depthwise_relu[0][0]'] \n",
            "                                                                                                  \n",
            " block_4_project_BN (BatchNorma  (None, 28, 28, 32)  128         ['block_4_project[0][0]']        \n",
            " lization)                                                                                        \n",
            "                                                                                                  \n",
            " block_4_add (Add)              (None, 28, 28, 32)   0           ['block_3_project_BN[0][0]',     \n",
            "                                                                  'block_4_project_BN[0][0]']     \n",
            "                                                                                                  \n",
            " block_5_expand (Conv2D)        (None, 28, 28, 192)  6144        ['block_4_add[0][0]']            \n",
            "                                                                                                  \n",
            " block_5_expand_BN (BatchNormal  (None, 28, 28, 192)  768        ['block_5_expand[0][0]']         \n",
            " ization)                                                                                         \n",
            "                                                                                                  \n",
            " block_5_expand_relu (ReLU)     (None, 28, 28, 192)  0           ['block_5_expand_BN[0][0]']      \n",
            "                                                                                                  \n",
            " block_5_depthwise (DepthwiseCo  (None, 28, 28, 192)  1728       ['block_5_expand_relu[0][0]']    \n",
            " nv2D)                                                                                            \n",
            "                                                                                                  \n",
            " block_5_depthwise_BN (BatchNor  (None, 28, 28, 192)  768        ['block_5_depthwise[0][0]']      \n",
            " malization)                                                                                      \n",
            "                                                                                                  \n",
            " block_5_depthwise_relu (ReLU)  (None, 28, 28, 192)  0           ['block_5_depthwise_BN[0][0]']   \n",
            "                                                                                                  \n",
            " block_5_project (Conv2D)       (None, 28, 28, 32)   6144        ['block_5_depthwise_relu[0][0]'] \n",
            "                                                                                                  \n",
            " block_5_project_BN (BatchNorma  (None, 28, 28, 32)  128         ['block_5_project[0][0]']        \n",
            " lization)                                                                                        \n",
            "                                                                                                  \n",
            " block_5_add (Add)              (None, 28, 28, 32)   0           ['block_4_add[0][0]',            \n",
            "                                                                  'block_5_project_BN[0][0]']     \n",
            "                                                                                                  \n",
            " block_6_expand (Conv2D)        (None, 28, 28, 192)  6144        ['block_5_add[0][0]']            \n",
            "                                                                                                  \n",
            " block_6_expand_BN (BatchNormal  (None, 28, 28, 192)  768        ['block_6_expand[0][0]']         \n",
            " ization)                                                                                         \n",
            "                                                                                                  \n",
            " block_6_expand_relu (ReLU)     (None, 28, 28, 192)  0           ['block_6_expand_BN[0][0]']      \n",
            "                                                                                                  \n",
            " block_6_pad (ZeroPadding2D)    (None, 29, 29, 192)  0           ['block_6_expand_relu[0][0]']    \n",
            "                                                                                                  \n",
            " block_6_depthwise (DepthwiseCo  (None, 14, 14, 192)  1728       ['block_6_pad[0][0]']            \n",
            " nv2D)                                                                                            \n",
            "                                                                                                  \n",
            " block_6_depthwise_BN (BatchNor  (None, 14, 14, 192)  768        ['block_6_depthwise[0][0]']      \n",
            " malization)                                                                                      \n",
            "                                                                                                  \n",
            " block_6_depthwise_relu (ReLU)  (None, 14, 14, 192)  0           ['block_6_depthwise_BN[0][0]']   \n",
            "                                                                                                  \n",
            " block_6_project (Conv2D)       (None, 14, 14, 64)   12288       ['block_6_depthwise_relu[0][0]'] \n",
            "                                                                                                  \n",
            " block_6_project_BN (BatchNorma  (None, 14, 14, 64)  256         ['block_6_project[0][0]']        \n",
            " lization)                                                                                        \n",
            "                                                                                                  \n",
            " block_7_expand (Conv2D)        (None, 14, 14, 384)  24576       ['block_6_project_BN[0][0]']     \n",
            "                                                                                                  \n",
            " block_7_expand_BN (BatchNormal  (None, 14, 14, 384)  1536       ['block_7_expand[0][0]']         \n",
            " ization)                                                                                         \n",
            "                                                                                                  \n",
            " block_7_expand_relu (ReLU)     (None, 14, 14, 384)  0           ['block_7_expand_BN[0][0]']      \n",
            "                                                                                                  \n",
            " block_7_depthwise (DepthwiseCo  (None, 14, 14, 384)  3456       ['block_7_expand_relu[0][0]']    \n",
            " nv2D)                                                                                            \n",
            "                                                                                                  \n",
            " block_7_depthwise_BN (BatchNor  (None, 14, 14, 384)  1536       ['block_7_depthwise[0][0]']      \n",
            " malization)                                                                                      \n",
            "                                                                                                  \n",
            " block_7_depthwise_relu (ReLU)  (None, 14, 14, 384)  0           ['block_7_depthwise_BN[0][0]']   \n",
            "                                                                                                  \n",
            " block_7_project (Conv2D)       (None, 14, 14, 64)   24576       ['block_7_depthwise_relu[0][0]'] \n",
            "                                                                                                  \n",
            " block_7_project_BN (BatchNorma  (None, 14, 14, 64)  256         ['block_7_project[0][0]']        \n",
            " lization)                                                                                        \n",
            "                                                                                                  \n",
            " block_7_add (Add)              (None, 14, 14, 64)   0           ['block_6_project_BN[0][0]',     \n",
            "                                                                  'block_7_project_BN[0][0]']     \n",
            "                                                                                                  \n",
            " block_8_expand (Conv2D)        (None, 14, 14, 384)  24576       ['block_7_add[0][0]']            \n",
            "                                                                                                  \n",
            " block_8_expand_BN (BatchNormal  (None, 14, 14, 384)  1536       ['block_8_expand[0][0]']         \n",
            " ization)                                                                                         \n",
            "                                                                                                  \n",
            " block_8_expand_relu (ReLU)     (None, 14, 14, 384)  0           ['block_8_expand_BN[0][0]']      \n",
            "                                                                                                  \n",
            " block_8_depthwise (DepthwiseCo  (None, 14, 14, 384)  3456       ['block_8_expand_relu[0][0]']    \n",
            " nv2D)                                                                                            \n",
            "                                                                                                  \n",
            " block_8_depthwise_BN (BatchNor  (None, 14, 14, 384)  1536       ['block_8_depthwise[0][0]']      \n",
            " malization)                                                                                      \n",
            "                                                                                                  \n",
            " block_8_depthwise_relu (ReLU)  (None, 14, 14, 384)  0           ['block_8_depthwise_BN[0][0]']   \n",
            "                                                                                                  \n",
            " block_8_project (Conv2D)       (None, 14, 14, 64)   24576       ['block_8_depthwise_relu[0][0]'] \n",
            "                                                                                                  \n",
            " block_8_project_BN (BatchNorma  (None, 14, 14, 64)  256         ['block_8_project[0][0]']        \n",
            " lization)                                                                                        \n",
            "                                                                                                  \n",
            " block_8_add (Add)              (None, 14, 14, 64)   0           ['block_7_add[0][0]',            \n",
            "                                                                  'block_8_project_BN[0][0]']     \n",
            "                                                                                                  \n",
            " block_9_expand (Conv2D)        (None, 14, 14, 384)  24576       ['block_8_add[0][0]']            \n",
            "                                                                                                  \n",
            " block_9_expand_BN (BatchNormal  (None, 14, 14, 384)  1536       ['block_9_expand[0][0]']         \n",
            " ization)                                                                                         \n",
            "                                                                                                  \n",
            " block_9_expand_relu (ReLU)     (None, 14, 14, 384)  0           ['block_9_expand_BN[0][0]']      \n",
            "                                                                                                  \n",
            " block_9_depthwise (DepthwiseCo  (None, 14, 14, 384)  3456       ['block_9_expand_relu[0][0]']    \n",
            " nv2D)                                                                                            \n",
            "                                                                                                  \n",
            " block_9_depthwise_BN (BatchNor  (None, 14, 14, 384)  1536       ['block_9_depthwise[0][0]']      \n",
            " malization)                                                                                      \n",
            "                                                                                                  \n",
            " block_9_depthwise_relu (ReLU)  (None, 14, 14, 384)  0           ['block_9_depthwise_BN[0][0]']   \n",
            "                                                                                                  \n",
            " block_9_project (Conv2D)       (None, 14, 14, 64)   24576       ['block_9_depthwise_relu[0][0]'] \n",
            "                                                                                                  \n",
            " block_9_project_BN (BatchNorma  (None, 14, 14, 64)  256         ['block_9_project[0][0]']        \n",
            " lization)                                                                                        \n",
            "                                                                                                  \n",
            " block_9_add (Add)              (None, 14, 14, 64)   0           ['block_8_add[0][0]',            \n",
            "                                                                  'block_9_project_BN[0][0]']     \n",
            "                                                                                                  \n",
            " block_10_expand (Conv2D)       (None, 14, 14, 384)  24576       ['block_9_add[0][0]']            \n",
            "                                                                                                  \n",
            " block_10_expand_BN (BatchNorma  (None, 14, 14, 384)  1536       ['block_10_expand[0][0]']        \n",
            " lization)                                                                                        \n",
            "                                                                                                  \n",
            " block_10_expand_relu (ReLU)    (None, 14, 14, 384)  0           ['block_10_expand_BN[0][0]']     \n",
            "                                                                                                  \n",
            " block_10_depthwise (DepthwiseC  (None, 14, 14, 384)  3456       ['block_10_expand_relu[0][0]']   \n",
            " onv2D)                                                                                           \n",
            "                                                                                                  \n",
            " block_10_depthwise_BN (BatchNo  (None, 14, 14, 384)  1536       ['block_10_depthwise[0][0]']     \n",
            " rmalization)                                                                                     \n",
            "                                                                                                  \n",
            " block_10_depthwise_relu (ReLU)  (None, 14, 14, 384)  0          ['block_10_depthwise_BN[0][0]']  \n",
            "                                                                                                  \n",
            " block_10_project (Conv2D)      (None, 14, 14, 96)   36864       ['block_10_depthwise_relu[0][0]']\n",
            "                                                                                                  \n",
            " block_10_project_BN (BatchNorm  (None, 14, 14, 96)  384         ['block_10_project[0][0]']       \n",
            " alization)                                                                                       \n",
            "                                                                                                  \n",
            " block_11_expand (Conv2D)       (None, 14, 14, 576)  55296       ['block_10_project_BN[0][0]']    \n",
            "                                                                                                  \n",
            " block_11_expand_BN (BatchNorma  (None, 14, 14, 576)  2304       ['block_11_expand[0][0]']        \n",
            " lization)                                                                                        \n",
            "                                                                                                  \n",
            " block_11_expand_relu (ReLU)    (None, 14, 14, 576)  0           ['block_11_expand_BN[0][0]']     \n",
            "                                                                                                  \n",
            " block_11_depthwise (DepthwiseC  (None, 14, 14, 576)  5184       ['block_11_expand_relu[0][0]']   \n",
            " onv2D)                                                                                           \n",
            "                                                                                                  \n",
            " block_11_depthwise_BN (BatchNo  (None, 14, 14, 576)  2304       ['block_11_depthwise[0][0]']     \n",
            " rmalization)                                                                                     \n",
            "                                                                                                  \n",
            " block_11_depthwise_relu (ReLU)  (None, 14, 14, 576)  0          ['block_11_depthwise_BN[0][0]']  \n",
            "                                                                                                  \n",
            " block_11_project (Conv2D)      (None, 14, 14, 96)   55296       ['block_11_depthwise_relu[0][0]']\n",
            "                                                                                                  \n",
            " block_11_project_BN (BatchNorm  (None, 14, 14, 96)  384         ['block_11_project[0][0]']       \n",
            " alization)                                                                                       \n",
            "                                                                                                  \n",
            " block_11_add (Add)             (None, 14, 14, 96)   0           ['block_10_project_BN[0][0]',    \n",
            "                                                                  'block_11_project_BN[0][0]']    \n",
            "                                                                                                  \n",
            " block_12_expand (Conv2D)       (None, 14, 14, 576)  55296       ['block_11_add[0][0]']           \n",
            "                                                                                                  \n",
            " block_12_expand_BN (BatchNorma  (None, 14, 14, 576)  2304       ['block_12_expand[0][0]']        \n",
            " lization)                                                                                        \n",
            "                                                                                                  \n",
            " block_12_expand_relu (ReLU)    (None, 14, 14, 576)  0           ['block_12_expand_BN[0][0]']     \n",
            "                                                                                                  \n",
            " block_12_depthwise (DepthwiseC  (None, 14, 14, 576)  5184       ['block_12_expand_relu[0][0]']   \n",
            " onv2D)                                                                                           \n",
            "                                                                                                  \n",
            " block_12_depthwise_BN (BatchNo  (None, 14, 14, 576)  2304       ['block_12_depthwise[0][0]']     \n",
            " rmalization)                                                                                     \n",
            "                                                                                                  \n",
            " block_12_depthwise_relu (ReLU)  (None, 14, 14, 576)  0          ['block_12_depthwise_BN[0][0]']  \n",
            "                                                                                                  \n",
            " block_12_project (Conv2D)      (None, 14, 14, 96)   55296       ['block_12_depthwise_relu[0][0]']\n",
            "                                                                                                  \n",
            " block_12_project_BN (BatchNorm  (None, 14, 14, 96)  384         ['block_12_project[0][0]']       \n",
            " alization)                                                                                       \n",
            "                                                                                                  \n",
            " block_12_add (Add)             (None, 14, 14, 96)   0           ['block_11_add[0][0]',           \n",
            "                                                                  'block_12_project_BN[0][0]']    \n",
            "                                                                                                  \n",
            " block_13_expand (Conv2D)       (None, 14, 14, 576)  55296       ['block_12_add[0][0]']           \n",
            "                                                                                                  \n",
            " block_13_expand_BN (BatchNorma  (None, 14, 14, 576)  2304       ['block_13_expand[0][0]']        \n",
            " lization)                                                                                        \n",
            "                                                                                                  \n",
            " block_13_expand_relu (ReLU)    (None, 14, 14, 576)  0           ['block_13_expand_BN[0][0]']     \n",
            "                                                                                                  \n",
            " block_13_pad (ZeroPadding2D)   (None, 15, 15, 576)  0           ['block_13_expand_relu[0][0]']   \n",
            "                                                                                                  \n",
            " block_13_depthwise (DepthwiseC  (None, 7, 7, 576)   5184        ['block_13_pad[0][0]']           \n",
            " onv2D)                                                                                           \n",
            "                                                                                                  \n",
            " block_13_depthwise_BN (BatchNo  (None, 7, 7, 576)   2304        ['block_13_depthwise[0][0]']     \n",
            " rmalization)                                                                                     \n",
            "                                                                                                  \n",
            " block_13_depthwise_relu (ReLU)  (None, 7, 7, 576)   0           ['block_13_depthwise_BN[0][0]']  \n",
            "                                                                                                  \n",
            " block_13_project (Conv2D)      (None, 7, 7, 160)    92160       ['block_13_depthwise_relu[0][0]']\n",
            "                                                                                                  \n",
            " block_13_project_BN (BatchNorm  (None, 7, 7, 160)   640         ['block_13_project[0][0]']       \n",
            " alization)                                                                                       \n",
            "                                                                                                  \n",
            " block_14_expand (Conv2D)       (None, 7, 7, 960)    153600      ['block_13_project_BN[0][0]']    \n",
            "                                                                                                  \n",
            " block_14_expand_BN (BatchNorma  (None, 7, 7, 960)   3840        ['block_14_expand[0][0]']        \n",
            " lization)                                                                                        \n",
            "                                                                                                  \n",
            " block_14_expand_relu (ReLU)    (None, 7, 7, 960)    0           ['block_14_expand_BN[0][0]']     \n",
            "                                                                                                  \n",
            " block_14_depthwise (DepthwiseC  (None, 7, 7, 960)   8640        ['block_14_expand_relu[0][0]']   \n",
            " onv2D)                                                                                           \n",
            "                                                                                                  \n",
            " block_14_depthwise_BN (BatchNo  (None, 7, 7, 960)   3840        ['block_14_depthwise[0][0]']     \n",
            " rmalization)                                                                                     \n",
            "                                                                                                  \n",
            " block_14_depthwise_relu (ReLU)  (None, 7, 7, 960)   0           ['block_14_depthwise_BN[0][0]']  \n",
            "                                                                                                  \n",
            " block_14_project (Conv2D)      (None, 7, 7, 160)    153600      ['block_14_depthwise_relu[0][0]']\n",
            "                                                                                                  \n",
            " block_14_project_BN (BatchNorm  (None, 7, 7, 160)   640         ['block_14_project[0][0]']       \n",
            " alization)                                                                                       \n",
            "                                                                                                  \n",
            " block_14_add (Add)             (None, 7, 7, 160)    0           ['block_13_project_BN[0][0]',    \n",
            "                                                                  'block_14_project_BN[0][0]']    \n",
            "                                                                                                  \n",
            " block_15_expand (Conv2D)       (None, 7, 7, 960)    153600      ['block_14_add[0][0]']           \n",
            "                                                                                                  \n",
            " block_15_expand_BN (BatchNorma  (None, 7, 7, 960)   3840        ['block_15_expand[0][0]']        \n",
            " lization)                                                                                        \n",
            "                                                                                                  \n",
            " block_15_expand_relu (ReLU)    (None, 7, 7, 960)    0           ['block_15_expand_BN[0][0]']     \n",
            "                                                                                                  \n",
            " block_15_depthwise (DepthwiseC  (None, 7, 7, 960)   8640        ['block_15_expand_relu[0][0]']   \n",
            " onv2D)                                                                                           \n",
            "                                                                                                  \n",
            " block_15_depthwise_BN (BatchNo  (None, 7, 7, 960)   3840        ['block_15_depthwise[0][0]']     \n",
            " rmalization)                                                                                     \n",
            "                                                                                                  \n",
            " block_15_depthwise_relu (ReLU)  (None, 7, 7, 960)   0           ['block_15_depthwise_BN[0][0]']  \n",
            "                                                                                                  \n",
            " block_15_project (Conv2D)      (None, 7, 7, 160)    153600      ['block_15_depthwise_relu[0][0]']\n",
            "                                                                                                  \n",
            " block_15_project_BN (BatchNorm  (None, 7, 7, 160)   640         ['block_15_project[0][0]']       \n",
            " alization)                                                                                       \n",
            "                                                                                                  \n",
            " block_15_add (Add)             (None, 7, 7, 160)    0           ['block_14_add[0][0]',           \n",
            "                                                                  'block_15_project_BN[0][0]']    \n",
            "                                                                                                  \n",
            " block_16_expand (Conv2D)       (None, 7, 7, 960)    153600      ['block_15_add[0][0]']           \n",
            "                                                                                                  \n",
            " block_16_expand_BN (BatchNorma  (None, 7, 7, 960)   3840        ['block_16_expand[0][0]']        \n",
            " lization)                                                                                        \n",
            "                                                                                                  \n",
            " block_16_expand_relu (ReLU)    (None, 7, 7, 960)    0           ['block_16_expand_BN[0][0]']     \n",
            "                                                                                                  \n",
            " block_16_depthwise (DepthwiseC  (None, 7, 7, 960)   8640        ['block_16_expand_relu[0][0]']   \n",
            " onv2D)                                                                                           \n",
            "                                                                                                  \n",
            " block_16_depthwise_BN (BatchNo  (None, 7, 7, 960)   3840        ['block_16_depthwise[0][0]']     \n",
            " rmalization)                                                                                     \n",
            "                                                                                                  \n",
            " block_16_depthwise_relu (ReLU)  (None, 7, 7, 960)   0           ['block_16_depthwise_BN[0][0]']  \n",
            "                                                                                                  \n",
            " block_16_project (Conv2D)      (None, 7, 7, 320)    307200      ['block_16_depthwise_relu[0][0]']\n",
            "                                                                                                  \n",
            " block_16_project_BN (BatchNorm  (None, 7, 7, 320)   1280        ['block_16_project[0][0]']       \n",
            " alization)                                                                                       \n",
            "                                                                                                  \n",
            " Conv_1 (Conv2D)                (None, 7, 7, 1280)   409600      ['block_16_project_BN[0][0]']    \n",
            "                                                                                                  \n",
            " Conv_1_bn (BatchNormalization)  (None, 7, 7, 1280)  5120        ['Conv_1[0][0]']                 \n",
            "                                                                                                  \n",
            " out_relu (ReLU)                (None, 7, 7, 1280)   0           ['Conv_1_bn[0][0]']              \n",
            "                                                                                                  \n",
            "==================================================================================================\n",
            "Total params: 2,257,984\n",
            "Trainable params: 0\n",
            "Non-trainable params: 2,257,984\n",
            "__________________________________________________________________________________________________\n"
          ]
        }
      ],
      "source": [
        "# Create the base model from the pre-trained model MobileNet V2\n",
        "IMG_SHAPE = IMG_SIZE + (3,)\n",
        "base_model = tf.keras.applications.MobileNetV2(input_shape=IMG_SHAPE,\n",
        "                                               include_top=False,\n",
        "                                               weights='imagenet')\n",
        "\n",
        "image_batch, label_batch = next(iter(train_dataset))\n",
        "feature_batch = base_model(image_batch)\n",
        "print(label_batch.shape)\n",
        "print(feature_batch.shape)\n",
        "\n",
        "base_model.trainable = False\n",
        "\n",
        "global_average_layer = tf.keras.layers.GlobalAveragePooling2D()\n",
        "feature_batch_average = global_average_layer(feature_batch)\n",
        "print(feature_batch_average.shape)\n",
        "\n",
        "prediction_layer = tf.keras.layers.Dense(136)\n",
        "prediction_batch = prediction_layer(feature_batch_average)\n",
        "print(prediction_batch.shape)\n",
        "\n",
        "# make the last layers trainable\n",
        "# last_layers_train = 3\n",
        "# n_layers = len(base_model.layers)\n",
        "# for i in range(0, n_layers - last_layers_train):\n",
        "#   base_model.layers[i].trainable = False\n",
        "#\n",
        "# for l in range(n_layers-last_layers_train,n_layers):\n",
        "#  print(base_model.layers[l])\n",
        "\n",
        "base_model.summary()"
      ]
    },
    {
      "cell_type": "code",
      "execution_count": 37,
      "metadata": {
        "colab": {
          "base_uri": "https://localhost:8080/"
        },
        "id": "QIoerkuSQvkP",
        "outputId": "80ca893a-924d-442f-cab1-ab836edb3b64"
      },
      "outputs": [
        {
          "output_type": "stream",
          "name": "stdout",
          "text": [
            "Model: \"model_1\"\n",
            "_________________________________________________________________\n",
            " Layer (type)                Output Shape              Param #   \n",
            "=================================================================\n",
            " input_4 (InputLayer)        [(None, 224, 224, 3)]     0         \n",
            "                                                                 \n",
            " tf.math.truediv_1 (TFOpLamb  (None, 224, 224, 3)      0         \n",
            " da)                                                             \n",
            "                                                                 \n",
            " tf.math.subtract_1 (TFOpLam  (None, 224, 224, 3)      0         \n",
            " bda)                                                            \n",
            "                                                                 \n",
            " mobilenetv2_1.00_224 (Funct  (None, 7, 7, 1280)       2257984   \n",
            " ional)                                                          \n",
            "                                                                 \n",
            " global_average_pooling2d_1   (None, 1280)             0         \n",
            " (GlobalAveragePooling2D)                                        \n",
            "                                                                 \n",
            " dropout_1 (Dropout)         (None, 1280)              0         \n",
            "                                                                 \n",
            " dense_1 (Dense)             (None, 136)               174216    \n",
            "                                                                 \n",
            "=================================================================\n",
            "Total params: 2,432,200\n",
            "Trainable params: 174,216\n",
            "Non-trainable params: 2,257,984\n",
            "_________________________________________________________________\n"
          ]
        }
      ],
      "source": [
        "inputs = tf.keras.Input(shape=IMG_SHAPE)\n",
        "x = data_augmentation(inputs)\n",
        "x = preprocess_input(inputs)\n",
        "x = base_model(x)\n",
        "x = global_average_layer(x)\n",
        "x = tf.keras.layers.Dropout(0.0)(x)\n",
        "outputs = prediction_layer(x)\n",
        "model = tf.keras.Model(inputs, outputs)\n",
        "\n",
        "base_learning_rate = 0.0001\n",
        "model.compile(optimizer=tf.keras.optimizers.Adam(learning_rate=base_learning_rate),\n",
        "              loss=tf.keras.losses.CategoricalCrossentropy(from_logits=True),\n",
        "              metrics=['accuracy'])\n",
        "\n",
        "model.summary()"
      ]
    },
    {
      "cell_type": "code",
      "execution_count": 38,
      "metadata": {
        "id": "68-ymQVRQ3d-",
        "colab": {
          "base_uri": "https://localhost:8080/"
        },
        "outputId": "a68010a7-5e9c-428b-9ef8-0473eb1dd974"
      },
      "outputs": [
        {
          "output_type": "stream",
          "name": "stdout",
          "text": [
            "64/64 [==============================] - 1038s 14s/step - loss: 5.2008 - accuracy: 0.0098\n",
            "initial loss: 5.20\n",
            "initial accuracy: 0.01\n"
          ]
        }
      ],
      "source": [
        "loss0, accuracy0 = model.evaluate(validation_dataset)\n",
        "\n",
        "print(\"initial loss: {:.2f}\".format(loss0))\n",
        "print(\"initial accuracy: {:.2f}\".format(accuracy0))\n"
      ]
    },
    {
      "cell_type": "code",
      "execution_count": 39,
      "metadata": {
        "colab": {
          "base_uri": "https://localhost:8080/",
          "height": 873
        },
        "id": "vA--xqg2Q881",
        "outputId": "4f02d160-7a2b-40b1-da5f-500d02cf3e61"
      },
      "outputs": [
        {
          "output_type": "stream",
          "name": "stdout",
          "text": [
            "Epoch 1/10\n",
            "297/297 [==============================] - 4555s 15s/step - loss: 3.7669 - accuracy: 0.2388 - val_loss: 2.6667 - val_accuracy: 0.4991\n",
            "Epoch 2/10\n",
            "297/297 [==============================] - 59s 196ms/step - loss: 2.0616 - accuracy: 0.6110 - val_loss: 1.6685 - val_accuracy: 0.6575\n",
            "Epoch 3/10\n",
            "297/297 [==============================] - 58s 192ms/step - loss: 1.3847 - accuracy: 0.7178 - val_loss: 1.2737 - val_accuracy: 0.7116\n",
            "Epoch 4/10\n",
            "297/297 [==============================] - 58s 193ms/step - loss: 1.0856 - accuracy: 0.7598 - val_loss: 1.0850 - val_accuracy: 0.7332\n",
            "Epoch 5/10\n",
            "297/297 [==============================] - 59s 196ms/step - loss: 0.9224 - accuracy: 0.7854 - val_loss: 0.9772 - val_accuracy: 0.7477\n",
            "Epoch 6/10\n",
            "297/297 [==============================] - 58s 191ms/step - loss: 0.8182 - accuracy: 0.8011 - val_loss: 0.9087 - val_accuracy: 0.7573\n",
            "Epoch 7/10\n",
            "297/297 [==============================] - 58s 191ms/step - loss: 0.7434 - accuracy: 0.8158 - val_loss: 0.8620 - val_accuracy: 0.7627\n",
            "Epoch 8/10\n",
            "297/297 [==============================] - 59s 197ms/step - loss: 0.6864 - accuracy: 0.8262 - val_loss: 0.8278 - val_accuracy: 0.7667\n",
            "Epoch 9/10\n",
            "297/297 [==============================] - 58s 193ms/step - loss: 0.6403 - accuracy: 0.8365 - val_loss: 0.8018 - val_accuracy: 0.7699\n",
            "Epoch 10/10\n",
            "297/297 [==============================] - 58s 193ms/step - loss: 0.6015 - accuracy: 0.8462 - val_loss: 0.7819 - val_accuracy: 0.7728\n"
          ]
        },
        {
          "output_type": "display_data",
          "data": {
            "text/plain": [
              "<Figure size 576x576 with 2 Axes>"
            ],
            "image/png": "[encoded data removed]"
          },
          "metadata": {
            "needs_background": "light"
          }
        }
      ],
      "source": [
        "initial_epochs = 10\n",
        "history = model.fit(train_dataset,\n",
        "                    epochs=initial_epochs,\n",
        "                    validation_data=validation_dataset)\n",
        "\n",
        "acc = history.history['accuracy']\n",
        "val_acc = history.history['val_accuracy']\n",
        "\n",
        "loss = history.history['loss']\n",
        "val_loss = history.history['val_loss']\n",
        "\n",
        "plt.figure(figsize=(8, 8))\n",
        "plt.subplot(2, 1, 1)\n",
        "plt.plot(acc, label='Training Accuracy')\n",
        "plt.plot(val_acc, label='Validation Accuracy')\n",
        "plt.legend(loc='lower right')\n",
        "plt.ylabel('Accuracy')\n",
        "plt.ylim([min(plt.ylim()), 1])\n",
        "plt.title('Training and Validation Accuracy')\n",
        "\n",
        "plt.subplot(2, 1, 2)\n",
        "plt.plot(loss, label='Training Loss')\n",
        "plt.plot(val_loss, label='Validation Loss')\n",
        "plt.legend(loc='upper right')\n",
        "plt.ylabel('Cross Entropy')\n",
        "plt.ylim([0, 1.0])\n",
        "plt.title('Training and Validation Loss')\n",
        "plt.xlabel('epoch')\n",
        "plt.show()\n",
        "\n",
        "\n"
      ]
    },
    {
      "cell_type": "code",
      "source": [
        "loss, accuracy = model.evaluate(test_dataset)\n",
        "print('Test accuracy :', accuracy)"
      ],
      "metadata": {
        "colab": {
          "base_uri": "https://localhost:8080/"
        },
        "id": "Z-523scy7HSr",
        "outputId": "30542d99-5f89-4c24-fd9c-b09302ea88be"
      },
      "execution_count": 40,
      "outputs": [
        {
          "output_type": "stream",
          "name": "stdout",
          "text": [
            "64/64 [==============================] - 1008s 14s/step - loss: 0.7817 - accuracy: 0.7816\n",
            "Test accuracy : 0.7816035151481628\n"
          ]
        }
      ]
    },
    {
      "cell_type": "code",
      "source": [
        "fold = []\n",
        "for folders in os.listdir('/content/drive/MyDrive/Colab Notebooks/train'):\n",
        "    fold.append(folders)\n",
        "\n",
        "print(fold)"
      ],
      "metadata": {
        "id": "k7mF9xEj9_Jb",
        "colab": {
          "base_uri": "https://localhost:8080/"
        },
        "outputId": "3453d312-3b97-40ae-fbfb-8d9a04fd6d72"
      },
      "execution_count": 41,
      "outputs": [
        {
          "output_type": "stream",
          "name": "stdout",
          "text": [
            "['australian_shepherd', 'scottish_deerhound', 'schipperke', 'black_and_tan_coonhound', 'gordon_setter', 'shih_tzu', 'shetland_sheepdog', 'fila braziliero', 'groenendael', 'bluetick', 'greater_swiss_mountain_dog', 'cane_carso', 'tibetan_mastiff', 'pembroke', 'bernese_mountain_dog', 'chihuahua', 'french_bulldog', 'toy_poodle', 'appenzeller', 'mexican_hairless', 'rottweiler', 'dingo', 'briard', 'great_dane', 'siberian_husky', 'lakeland_terrier', 'wire_haired_fox_terrier', 'old_english_sheepdog', 'bouvier_des_flandres', 'lhasa', 'bedlington_terrier', 'curly_coated_retriever', 'english_setter', 'kuvasz', 'cardigan', 'english_foxhound', 'kelpie', 'miniature_schnauzer', 'newfoundland', 'flat_coated_retriever', 'italian_greyhound', 'brabancon_griffo', 'saint_bernard', 'black_sable', 'eskimo_dog', 'dandie_dinmont', 'saluki', 'maltese_dog', 'soft_coated_wheaten_terrier', 'american_staffordshire_terrier', 'blenheim_spaniel', 'teddy', 'silky_terrier', 'keeshond', 'bichon_frise', 'dhole', 'cairn', 'whippet', 'miniature_poodle', 'ibizan_hound', 'bull_mastiff', 'boxer', 'sealyham_terrier', 'beagle', 'miniature_pinscher', 'clumber', 'norfolk_terrier', 'walker_hound', 'tibetan_terrier', 'cocker_spaniel', 'entlebucher', 'chinese_rural_dog', 'norwegian_elkhound', 'weimaraner', 'samoyed', 'welsh_springer_spaniel', 'pomeranian', 'pekinese', 'irish_terrier', 'great_pyrenees', 'toy_terrier', 'staffordshire_bullterrier', 'border_collie', 'collie', 'west_highland_white_terrier', 'redbone', 'standard_poodle', 'bloodhound', 'norwich_terrier', 'english_springer', 'malamute', 'irish_setter', 'pug', 'labrador_retriever', 'kerry_blue_terrier', 'komondor', 'golden_retriever', 'yorkshire_terrier', 'malinois', 'chinese_crested_dog', 'australian_terrier', 'brittany_spaniel', 'boston_bull', 'border_terrier', 'vizsla', 'chesapeake_bay_retriever', 'chow', 'german_shepherd', 'otterhound', 'basenji', 'borzoi', 'standard_schnauzer', 'irish_wolfhound', 'doberman', 'sussex_spaniel', 'papillon', 'giant_schnauzer', 'havanese', 'shiba_inu', 'leonberger', 'japanese_spitzes', 'german_shorthaired', 'rhodesian_ridgeback', 'american_pit_bull_terrier', 'irish_water_spaniel', 'basset_hound', 'japanese_spaniel', 'scottish_terrier', 'japanese_chin', 'wheaten_terrier', 'english_cocker_spaniel', 'affenpinscher', 'afghan_hound', 'african_hunting_dog', 'airedale', 'american_bulldog']\n"
          ]
        }
      ]
    },
    {
      "cell_type": "code",
      "source": [
        "class_names = fold \n",
        "# Retrieve a batch of images from the test set\n",
        "image_batch, label_batch = test_dataset.as_numpy_iterator().next()\n",
        "predictions = model.predict_on_batch(image_batch)\n",
        "#print(predictions.shape)\n",
        "\n",
        "# Apply a softmax instead of sigmoid\n",
        "predictions = tf.nn.softmax(predictions)\n",
        "\n",
        "#https://numpy.org/doc/stable/reference/generated/numpy.argmax.html\n",
        "#predicted_class_index = np.argmax(predictions, axis=1)\n",
        "#print(\"Predicted class:\", class_names[predicted_class_index[0]])\n",
        "\n",
        "\n",
        "# Get the index of the top 5 predictions (the predicted classes)\n",
        "top_5_predictions = np.argsort(predictions, axis=1)[0][-5:]\n",
        "\n",
        "# print the predicted classes\n",
        "print(\"Predicted classes:\")\n",
        "for i in top_5_predictions:\n",
        "    print(class_names[i])\n",
        "\n",
        "#print(predictions.shape)\n"
      ],
      "metadata": {
        "colab": {
          "base_uri": "https://localhost:8080/"
        },
        "id": "0TEZysqK7KFt",
        "outputId": "2d9c05e7-80c5-455d-b252-0ab888f15c5a"
      },
      "execution_count": 42,
      "outputs": [
        {
          "output_type": "stream",
          "name": "stdout",
          "text": [
            "Predicted classes:\n",
            "great_dane\n",
            "scottish_deerhound\n",
            "bull_mastiff\n",
            "chow\n",
            "walker_hound\n"
          ]
        }
      ]
    }
  ],
  "metadata": {
    "accelerator": "GPU",
    "colab": {
      "provenance": [],
      "include_colab_link": true
    },
    "gpuClass": "standard",
    "kernelspec": {
      "display_name": "Python 3",
      "name": "python3"
    },
    "language_info": {
      "name": "python"
    }
  },
  "nbformat": 4,
  "nbformat_minor": 0
}